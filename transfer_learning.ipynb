{
  "nbformat": 4,
  "nbformat_minor": 0,
  "metadata": {
    "colab": {
      "name": "transfer_learning.ipynb",
      "provenance": [],
      "collapsed_sections": [],
      "authorship_tag": "ABX9TyPMm63zoU2Ng9mOR1V6Wsi0",
      "include_colab_link": true
    },
    "kernelspec": {
      "name": "python3",
      "display_name": "Python 3"
    }
  },
  "cells": [
    {
      "cell_type": "markdown",
      "metadata": {
        "id": "view-in-github",
        "colab_type": "text"
      },
      "source": [
        "<a href=\"https://colab.research.google.com/github/bhushanyadav07/Final-Project/blob/master/transfer_learning.ipynb\" target=\"_parent\"><img src=\"https://colab.research.google.com/assets/colab-badge.svg\" alt=\"Open In Colab\"/></a>"
      ]
    },
    {
      "cell_type": "code",
      "metadata": {
        "id": "XatBDNCM33YS",
        "colab_type": "code",
        "colab": {}
      },
      "source": [
        "import pandas as pd\n",
        "import numpy as np\n",
        "import os\n",
        "import tensorflow.keras\n",
        "import matplotlib.pyplot as plt\n",
        "from tensorflow.keras.layers import Dense,GlobalAveragePooling2D\n",
        "from tensorflow.keras.applications import MobileNet\n",
        "from tensorflow.keras.preprocessing import image\n",
        "from tensorflow.keras.applications.mobilenet import preprocess_input\n",
        "from tensorflow.keras.preprocessing.image import ImageDataGenerator\n",
        "from tensorflow.keras.models import Model\n",
        "from tensorflow.keras.optimizers import Adam"
      ],
      "execution_count": 0,
      "outputs": []
    },
    {
      "cell_type": "code",
      "metadata": {
        "id": "16p254V436_L",
        "colab_type": "code",
        "colab": {}
      },
      "source": [
        "model = MobileNet(weights='imagenet',include_top=True)"
      ],
      "execution_count": 0,
      "outputs": []
    },
    {
      "cell_type": "code",
      "metadata": {
        "id": "FOGGxKd54Apq",
        "colab_type": "code",
        "colab": {}
      },
      "source": [
        "\n",
        "model.summary()\n"
      ],
      "execution_count": 0,
      "outputs": []
    },
    {
      "cell_type": "code",
      "metadata": {
        "id": "K9diUjpz4OkW",
        "colab_type": "code",
        "colab": {}
      },
      "source": [
        "%matplotlib inline\n",
        "from PIL import Image, ImageFile\n",
        "from matplotlib.pyplot import imshow\n",
        "import requests\n",
        "import numpy as np\n",
        "from io import BytesIO\n",
        "from IPython.display import display, HTML\n",
        "from tensorflow.keras.applications.mobilenet import decode_predictions\n",
        "\n",
        "IMAGE_WIDTH = 224\n",
        "IMAGE_HEIGHT = 224\n",
        "IMAGE_CHANNELS = 3\n",
        "\n",
        "images = [\n",
        "    \"https://th.bing.com/th/id/OIP.f6ZwSG1gU6j2YKaJQEMd6AAAAA?w=147&h=152&c=7&o=5&dpr=1.25&pid=1.7\",\n",
        "    \"https://th.bing.com/th/id/OIP.zh5NmdTzAughWaAkOrZypgHaGR?w=249&h=200&c=7&o=5&dpr=1.25&pid=1.7\",\n",
        "        'https://th.bing.com/th/id/OIP.Br6n6nYaTuH7OXqEnn1sgwHaEo?w=295&h=184&c=7&o=5&dpr=1.25&pid=1.7'\n",
        "]\n",
        "\n",
        "\n",
        "def make_square(img):\n",
        "    cols,rows = img.size\n",
        "    \n",
        "    if rows>cols:\n",
        "        pad = (rows-cols)/2\n",
        "        img = img.crop((pad,0,cols,cols))\n",
        "    else:\n",
        "        pad = (cols-rows)/2\n",
        "        img = img.crop((0,pad,rows,rows))\n",
        "    \n",
        "    return img\n",
        "        \n",
        "for url in images:\n",
        "    x = []\n",
        "    ImageFile.LOAD_TRUNCATED_IMAGES = False\n",
        "    response = requests.get(url)\n",
        "    img = Image.open(BytesIO(response.content))\n",
        "    img.load()\n",
        "    img = img.resize((IMAGE_WIDTH,IMAGE_HEIGHT),Image.ANTIALIAS)\n",
        "    \n",
        "    x = image.img_to_array(img)\n",
        "    x = np.expand_dims(x, axis=0)\n",
        "    x = preprocess_input(x)\n",
        "    pred = model.predict(x)\n",
        "    \n",
        "    display(\"___________________________________________________________________________________________\")\n",
        "    display(img)\n",
        "    print(np.argmax(pred,axis=1))\n",
        "\n",
        "    lst = decode_predictions(pred, top=5)\n",
        "    for itm in lst[0]:\n",
        "        print(itm)"
      ],
      "execution_count": 0,
      "outputs": []
    },
    {
      "cell_type": "markdown",
      "metadata": {
        "id": "HBapLksS5e9M",
        "colab_type": "text"
      },
      "source": [
        "##Transfer Learning"
      ]
    },
    {
      "cell_type": "code",
      "metadata": {
        "id": "pooQrZF45eTn",
        "colab_type": "code",
        "colab": {}
      },
      "source": [
        "base_model=MobileNet(weights='imagenet',include_top=False) \n",
        "#imports the mobilenet model and discards the last 1000 neuron layer.\n",
        "\n",
        "base_model.summary()"
      ],
      "execution_count": 0,
      "outputs": []
    },
    {
      "cell_type": "code",
      "metadata": {
        "id": "ebk0_Ft251UD",
        "colab_type": "code",
        "colab": {}
      },
      "source": [
        "x=base_model.output\n",
        "x=GlobalAveragePooling2D()(x)\n",
        "x=Dense(1024,activation='relu')(x) \n",
        "x=Dense(1024,activation='relu')(x) \n",
        "preds=Dense(3,activation='softmax')(x)"
      ],
      "execution_count": 0,
      "outputs": []
    },
    {
      "cell_type": "code",
      "metadata": {
        "id": "w_ray0nP54Vn",
        "colab_type": "code",
        "colab": {}
      },
      "source": [
        "model=Model(inputs=base_model.input,outputs=preds)\n",
        "\n",
        "for layer in model.layers[:20]:\n",
        "    layer.trainable=False\n",
        "for layer in model.layers[20:]:\n",
        "    layer.trainable=True"
      ],
      "execution_count": 0,
      "outputs": []
    },
    {
      "cell_type": "markdown",
      "metadata": {
        "id": "NJRrCJGa6-cH",
        "colab_type": "text"
      },
      "source": [
        "####Note : Some Part is still remaining i'm still working on it "
      ]
    }
  ]
}